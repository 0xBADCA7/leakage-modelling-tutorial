{
 "cells": [
  {
   "cell_type": "markdown",
   "metadata": {},
   "source": [
    "# Real leakage of a single bit\n",
    "\n",
    "This example is similar to example 1, but the data is drawn from power measurements of AES encryption on ATmega. We look at a single bit of the 1 round S-box output and buid a model for the leakage using linear regression (with OLS). A more elaborate OLS implementation is used, namely the one which is suitable for multivariate OLS (useful for the third example). Aditionaly, we plot histograms to describe the leakage in the Gaussian model, i.e. we build templates.\n",
    "\n",
    "This illustrates two ways leakage (signal) can be modelled from real data (so called profiling):\n",
    "* linear regression provides a formula for predicting the signal from the intermediate value\n",
    "* templates provide exact values for the signal for each value of the intermediate (think of leakage function defined by a table with values)\n",
    "\n",
    "The noise is modelled in the same way in both cases, but here we will not deal with noise becasue we will used the leakge model only in the correaltion distinguisher that does not make use of noise.\n",
    "\n",
    "Part of the leakage modeling tutorial, license is GPLv3, see https://www.gnu.org/licenses/gpl-3.0.en.html<br>\n",
    "Requires traces and data from [pysca toolbox](https://github.com/ikizhvatov/pysca)"
   ]
  },
  {
   "cell_type": "code",
   "execution_count": 3,
   "metadata": {},
   "outputs": [],
   "source": [
    "import numpy as np\n",
    "import statsmodels.api as sm\n",
    "import matplotlib.pyplot as plt\n",
    "import matplotlib.mlab as mlab"
   ]
  },
  {
   "cell_type": "markdown",
   "metadata": {},
   "source": [
    "We need AES S-box to compute the output bit value"
   ]
  },
  {
   "cell_type": "code",
   "execution_count": 4,
   "metadata": {
    "collapsed": true
   },
   "outputs": [],
   "source": [
    "''' initially defined explcitly...\n",
    "sbox = np.array([\n",
    "0x63, 0x7c, 0x77, 0x7b, 0xf2, 0x6b, 0x6f, 0xc5, 0x30, 0x01, 0x67, 0x2b, 0xfe, 0xd7, 0xab, 0x76,\n",
    "0xca, 0x82, 0xc9, 0x7d, 0xfa, 0x59, 0x47, 0xf0, 0xad, 0xd4, 0xa2, 0xaf, 0x9c, 0xa4, 0x72, 0xc0,\n",
    "0xb7, 0xfd, 0x93, 0x26, 0x36, 0x3f, 0xf7, 0xcc, 0x34, 0xa5, 0xe5, 0xf1, 0x71, 0xd8, 0x31, 0x15,\n",
    "0x04, 0xc7, 0x23, 0xc3, 0x18, 0x96, 0x05, 0x9a, 0x07, 0x12, 0x80, 0xe2, 0xeb, 0x27, 0xb2, 0x75,\n",
    "0x09, 0x83, 0x2c, 0x1a, 0x1b, 0x6e, 0x5a, 0xa0, 0x52, 0x3b, 0xd6, 0xb3, 0x29, 0xe3, 0x2f, 0x84,\n",
    "0x53, 0xd1, 0x00, 0xed, 0x20, 0xfc, 0xb1, 0x5b, 0x6a, 0xcb, 0xbe, 0x39, 0x4a, 0x4c, 0x58, 0xcf,\n",
    "0xd0, 0xef, 0xaa, 0xfb, 0x43, 0x4d, 0x33, 0x85, 0x45, 0xf9, 0x02, 0x7f, 0x50, 0x3c, 0x9f, 0xa8,\n",
    "0x51, 0xa3, 0x40, 0x8f, 0x92, 0x9d, 0x38, 0xf5, 0xbc, 0xb6, 0xda, 0x21, 0x10, 0xff, 0xf3, 0xd2,\n",
    "0xcd, 0x0c, 0x13, 0xec, 0x5f, 0x97, 0x44, 0x17, 0xc4, 0xa7, 0x7e, 0x3d, 0x64, 0x5d, 0x19, 0x73,\n",
    "0x60, 0x81, 0x4f, 0xdc, 0x22, 0x2a, 0x90, 0x88, 0x46, 0xee, 0xb8, 0x14, 0xde, 0x5e, 0x0b, 0xdb,\n",
    "0xe0, 0x32, 0x3a, 0x0a, 0x49, 0x06, 0x24, 0x5c, 0xc2, 0xd3, 0xac, 0x62, 0x91, 0x95, 0xe4, 0x79,\n",
    "0xe7, 0xc8, 0x37, 0x6d, 0x8d, 0xd5, 0x4e, 0xa9, 0x6c, 0x56, 0xf4, 0xea, 0x65, 0x7a, 0xae, 0x08,\n",
    "0xba, 0x78, 0x25, 0x2e, 0x1c, 0xa6, 0xb4, 0xc6, 0xe8, 0xdd, 0x74, 0x1f, 0x4b, 0xbd, 0x8b, 0x8a,\n",
    "0x70, 0x3e, 0xb5, 0x66, 0x48, 0x03, 0xf6, 0x0e, 0x61, 0x35, 0x57, 0xb9, 0x86, 0xc1, 0x1d, 0x9e,\n",
    "0xe1, 0xf8, 0x98, 0x11, 0x69, 0xd9, 0x8e, 0x94, 0x9b, 0x1e, 0x87, 0xe9, 0xce, 0x55, 0x28, 0xdf,\n",
    "0x8c, 0xa1, 0x89, 0x0d, 0xbf, 0xe6, 0x42, 0x68, 0x41, 0x99, 0x2d, 0x0f, 0xb0, 0x54, 0xbb, 0x16], dtype='uint8')\n",
    "'''\n",
    "# ...but we pre-saved it to the numpy daa file and just load it\n",
    "sbox = np.load('../data/aessbox.npy')"
   ]
  },
  {
   "cell_type": "markdown",
   "metadata": {},
   "source": [
    "Parameter: bit of the S-Box output to work with"
   ]
  },
  {
   "cell_type": "code",
   "execution_count": 2,
   "metadata": {
    "collapsed": true
   },
   "outputs": [],
   "source": [
    "bit = 0"
   ]
  },
  {
   "cell_type": "markdown",
   "metadata": {},
   "source": [
    "Load samples and data. From the trace of many samples, we take a single sample 1025 that leaks (I know it from an earlier DPA). You can take other samples and see what happens."
   ]
  },
  {
   "cell_type": "code",
   "execution_count": 7,
   "metadata": {
    "collapsed": true
   },
   "outputs": [],
   "source": [
    "npzfile = np.load('../traces/swaes_atmega_power.npz')\n",
    "data = npzfile['data'][:,0]\n",
    "traces = npzfile['traces'][:,1025]"
   ]
  },
  {
   "cell_type": "markdown",
   "metadata": {},
   "source": [
    "At this point we have a set of 1-sample traces and a corresponding set of 1-byte S-box inputs.\n",
    "\n",
    "Now, knowing the key byte, we compute the intermediate variable values - S-box outputs."
   ]
  },
  {
   "cell_type": "code",
   "execution_count": 8,
   "metadata": {
    "collapsed": true
   },
   "outputs": [],
   "source": [
    "keyByte = np.uint8(0x2B)\n",
    "sBoxOut = sbox[data ^ keyByte]"
   ]
  },
  {
   "cell_type": "markdown",
   "metadata": {},
   "source": [
    "Now, we are interested in this example in a single bit of the intermediate variable"
   ]
  },
  {
   "cell_type": "code",
   "execution_count": 9,
   "metadata": {
    "collapsed": true
   },
   "outputs": [],
   "source": [
    "sBoxOutBit = (sBoxOut >> bit) & 1"
   ]
  },
  {
   "cell_type": "markdown",
   "metadata": {},
   "source": [
    "Perform regression, i.e. solve the system using OLS, and print the results. This function provides an extended report; we are mainly interested in coefficient x1 (and constant coefficient). "
   ]
  },
  {
   "cell_type": "code",
   "execution_count": 13,
   "metadata": {},
   "outputs": [
    {
     "name": "stdout",
     "output_type": "stream",
     "text": [
      "                            OLS Regression Results                            \n",
      "==============================================================================\n",
      "Dep. Variable:                      y   R-squared:                       0.156\n",
      "Model:                            OLS   Adj. R-squared:                  0.155\n",
      "Method:                 Least Squares   F-statistic:                     368.3\n",
      "Date:                Fri, 16 Jun 2017   Prob (F-statistic):           1.79e-75\n",
      "Time:                        10:17:30   Log-Likelihood:                -6824.7\n",
      "No. Observations:                2000   AIC:                         1.365e+04\n",
      "Df Residuals:                    1998   BIC:                         1.366e+04\n",
      "Df Model:                           1                                         \n",
      "Covariance Type:            nonrobust                                         \n",
      "==============================================================================\n",
      "                 coef    std err          t      P>|t|      [0.025      0.975]\n",
      "------------------------------------------------------------------------------\n",
      "x1             6.3035      0.328     19.191      0.000       5.659       6.948\n",
      "const        -95.7253      0.233   -410.111      0.000     -96.183     -95.267\n",
      "==============================================================================\n",
      "Omnibus:                       26.404   Durbin-Watson:                   2.238\n",
      "Prob(Omnibus):                  0.000   Jarque-Bera (JB):               16.131\n",
      "Skew:                          -0.006   Prob(JB):                     0.000314\n",
      "Kurtosis:                       2.560   Cond. No.                         2.63\n",
      "==============================================================================\n",
      "\n",
      "Warnings:\n",
      "[1] Standard Errors assume that the covariance matrix of the errors is correctly specified.\n"
     ]
    }
   ],
   "source": [
    "A = sm.add_constant(sBoxOutBit, prepend=False) # add constant coefficient (trailing column of ones)\n",
    "results = sm.OLS(traces, A).fit() # the OLS itself\n",
    "beta = results.params\n",
    "print(results.summary())"
   ]
  },
  {
   "cell_type": "markdown",
   "metadata": {},
   "source": [
    "Visualize the regression and the modelled Gaussian distribution (templates)"
   ]
  },
  {
   "cell_type": "code",
   "execution_count": 17,
   "metadata": {},
   "outputs": [
    {
     "data": {
      "image/png": "[encoded data removed]",
      "text/plain": [
       "<matplotlib.figure.Figure at 0x11ddac7b8>"
      ]
     },
     "metadata": {},
     "output_type": "display_data"
    }
   ],
   "source": [
    "# initial data (as dots) and the fitted line\n",
    "fig = plt.figure()\n",
    "ax1 = fig.add_subplot(121)\n",
    "xnew = np.array([-2, 0, 1, 3]) # to plot a line with dots in the right places\n",
    "line = beta[0] * xnew + beta[1] # regression line\n",
    "samples0 = traces[np.nonzero(sBoxOutBit == 0)[0]]\n",
    "samples1 = traces[np.nonzero(sBoxOutBit == 1)[0]]\n",
    "plt.plot(np.zeros(len(samples0)), samples0, 'g.', alpha=0.5, markersize=10)\n",
    "plt.plot(np.ones(len(samples1)), samples1, 'r.', alpha=0.5, markersize=10)\n",
    "plt.plot(xnew, line, 'b.-', markersize=15)\n",
    "plt.xlim((-1, 2))\n",
    "plt.xticks([0,1])\n",
    "ax1.set_xlabel(\"Bit %d value\" % bit)\n",
    "plt.ylabel(\"Leakage value\")\n",
    "\n",
    "# for more comprehension, plot histograms for leakage of 0 and 1\n",
    "ax2 = fig.add_subplot(122, sharey=ax1)\n",
    "numBins = 16.0\n",
    "binSize = (max(traces) - min(traces)) / float(numBins - 1);\n",
    "binEdges = np.arange(min(traces) - (binSize / 2.0), max(traces) + (binSize / 2.0) + 1, binSize)\n",
    "plt.hist(samples0, bins=binEdges, normed=1, facecolor='green', alpha=0.5, orientation='horizontal')\n",
    "plt.hist(samples1, bins=binEdges, normed=1, facecolor='red', alpha=0.5, orientation='horizontal')\n",
    "ax2.set_xlabel(\"Leakage value relative frequency\")\n",
    "\n",
    "# estimate mu and sigma, and plot the normal curves\n",
    "binCenters = 0.5*(binEdges[1:]+binEdges[:-1])\n",
    "normPdf0 = mlab.normpdf(binCenters, np.mean(samples0), np.sqrt(np.var(samples0)))\n",
    "normPdf1 = mlab.normpdf(binCenters, np.mean(samples1), np.sqrt(np.var(samples1)))\n",
    "plt.plot(normPdf0, binCenters, 'g-', linewidth=2)\n",
    "plt.plot(normPdf1, binCenters, 'r-', linewidth=2)\n",
    "plt.show()"
   ]
  }
 ],
 "metadata": {
  "kernelspec": {
   "display_name": "Python 3",
   "language": "python",
   "name": "python3"
  },
  "language_info": {
   "codemirror_mode": {
    "name": "ipython",
    "version": 3
   },
   "file_extension": ".py",
   "mimetype": "text/x-python",
   "name": "python",
   "nbconvert_exporter": "python",
   "pygments_lexer": "ipython3",
   "version": "3.6.1"
  }
 },
 "nbformat": 4,
 "nbformat_minor": 2
}
