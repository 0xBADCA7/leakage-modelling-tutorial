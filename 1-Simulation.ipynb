{
 "cells": [
  {
   "cell_type": "markdown",
   "metadata": {},
   "source": [
    "# Simulated leakage of a single bit\n",
    "\n",
    "A very simple example simulating the leakage of a single bit in the Gaussian\n",
    "model, and then fitting the line onto it using ordinary least squares (OLS).\n",
    "\n",
    "Part of the leakage modeling tutorial, license is GPLv3, see https://www.gnu.org/licenses/gpl-3.0.en.html<br>\n",
    "Requires traces and data from [pysca toolbox](https://github.com/ikizhvatov/pysca)"
   ]
  },
  {
   "cell_type": "code",
   "execution_count": 1,
   "metadata": {
    "collapsed": true
   },
   "outputs": [],
   "source": [
    "import matplotlib.pyplot as plt\n",
    "import numpy as np"
   ]
  },
  {
   "cell_type": "markdown",
   "metadata": {},
   "source": [
    "Create simulated data (half for 0, half for 1)"
   ]
  },
  {
   "cell_type": "code",
   "execution_count": 2,
   "metadata": {},
   "outputs": [],
   "source": [
    "numSamples = 50 * 2\n",
    "\n",
    "mu0, sigma0 = 10, 2 # mean (signal) and standard deviation (noise) for 0\n",
    "mu1, sigma1 = 20, 4 # mean (signal) and standard deviation (noise) for 1\n",
    "samples0 = np.random.normal(mu0, sigma0, int(numSamples/2))\n",
    "samples1 = np.random.normal(mu1, sigma1, int(numSamples/2))\n",
    "\n",
    "x = np.concatenate((np.zeros(len(samples0)), np.ones(len(samples1)))) # intermediate variables\n",
    "y = np.concatenate((samples0, samples1)) # simulated leakages"
   ]
  },
  {
   "cell_type": "markdown",
   "metadata": {},
   "source": [
    "Create the matrix (left-hand side of the over-determined system) necessary for the numpy least squares routine. Note the column of ones for the constant term."
   ]
  },
  {
   "cell_type": "code",
   "execution_count": 3,
   "metadata": {
    "collapsed": true
   },
   "outputs": [],
   "source": [
    "columnOfOnes = np.concatenate((np.ones(len(samples0)), np.ones(len(samples1))))\n",
    "A = np.vstack((x, columnOfOnes))"
   ]
  },
  {
   "cell_type": "markdown",
   "metadata": {},
   "source": [
    "Perform linear regression, i.e. solve the system using OLS, and print out the coefficients $\\beta$"
   ]
  },
  {
   "cell_type": "code",
   "execution_count": 4,
   "metadata": {},
   "outputs": [
    {
     "name": "stdout",
     "output_type": "stream",
     "text": [
      "10.0784811227 10.1435158104\n"
     ]
    }
   ],
   "source": [
    "beta = np.linalg.lstsq(A.T,y)[0]\n",
    "print(beta[0], beta[1])"
   ]
  },
  {
   "cell_type": "markdown",
   "metadata": {},
   "source": [
    "Visualize initial data (as dots) and the fitted line"
   ]
  },
  {
   "cell_type": "code",
   "execution_count": 5,
   "metadata": {},
   "outputs": [
    {
     "data": {
      "image/png": "[encoded data removed]",
      "text/plain": [
       "<matplotlib.figure.Figure at 0x115ffb630>"
      ]
     },
     "metadata": {},
     "output_type": "display_data"
    }
   ],
   "source": [
    "xnew = np.arange(-1,3) # range somewhat wider to ensure 0 and 1 are not on the edges of the plot\n",
    "line = beta[0] * xnew + beta[1] # fitted line\n",
    "plt.plot(xnew, line, 'r-', x, y, '.')\n",
    "plt.xlim((-1, 2))\n",
    "plt.ylim((0, 30))\n",
    "plt.show()"
   ]
  }
 ],
 "metadata": {
  "kernelspec": {
   "display_name": "Python 3",
   "language": "python",
   "name": "python3"
  },
  "language_info": {
   "codemirror_mode": {
    "name": "ipython",
    "version": 3
   },
   "file_extension": ".py",
   "mimetype": "text/x-python",
   "name": "python",
   "nbconvert_exporter": "python",
   "pygments_lexer": "ipython3",
   "version": "3.6.1"
  }
 },
 "nbformat": 4,
 "nbformat_minor": 2
}
