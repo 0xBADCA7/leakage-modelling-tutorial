{
 "cells": [
  {
   "cell_type": "markdown",
   "metadata": {},
   "source": [
    "# Leakage modelling with (reduced) templates\n",
    "\n",
    "Build reduced templates for later comparison to the model obtained using linear regression.\n",
    "\n",
    "Reduced means we obtain only the mean of the traces, representing the signal. Covariance matrix, representing the noise, is not computed.\n",
    "\n",
    "We do not model noise becasue later we will use correlation, which is a distinguisher that does not make use of noise model.\n",
    "\n",
    "Part of the leakage modeling tutorial, license is GPLv3, see https://www.gnu.org/licenses/gpl-3.0.en.html<br>\n",
    "Requires traces and data from [pysca toolbox](https://github.com/ikizhvatov/pysca)"
   ]
  },
  {
   "cell_type": "code",
   "execution_count": 2,
   "metadata": {},
   "outputs": [],
   "source": [
    "import numpy as np\n",
    "import statsmodels.api as sm\n",
    "import matplotlib.pyplot as plt"
   ]
  },
  {
   "cell_type": "markdown",
   "metadata": {},
   "source": [
    "Load helper tables"
   ]
  },
  {
   "cell_type": "code",
   "execution_count": 3,
   "metadata": {
    "collapsed": true
   },
   "outputs": [],
   "source": [
    "sbox = np.load('../data/aessbox.npy')\n",
    "byteHammingWeight = np.load('../data/bytehammingweight.npy')"
   ]
  },
  {
   "cell_type": "markdown",
   "metadata": {},
   "source": [
    "Configure and load traces and corresponding inputs"
   ]
  },
  {
   "cell_type": "code",
   "execution_count": 4,
   "metadata": {
    "collapsed": true
   },
   "outputs": [],
   "source": [
    "inputRange = range(0, 2000)  # range for traces (not samples!)\n",
    "SboxNum = 0\n",
    "SampleNum = 1025 # sampe 1025 is for S-box 0\n",
    "\n",
    "npzfile = np.load('../traces/swaes_atmega_power.npz')\n",
    "data = npzfile['data'][inputRange, SboxNum]\n",
    "traces = npzfile['traces'][inputRange, SampleNum]"
   ]
  },
  {
   "cell_type": "markdown",
   "metadata": {},
   "source": [
    "Now, knowing the key byte, we compute the intermediate variable values: S-box outputs"
   ]
  },
  {
   "cell_type": "code",
   "execution_count": 5,
   "metadata": {
    "collapsed": true
   },
   "outputs": [],
   "source": [
    "key = b'\\x2b\\x7e\\x15\\x16\\x28\\xae\\xd2\\xa6\\xab\\xf7\\x15\\x88\\x09\\xcf\\x4f\\x3c'\n",
    "keyByte = np.uint8(key[SboxNum])\n",
    "sBoxOut = sbox[data ^ keyByte]"
   ]
  },
  {
   "cell_type": "markdown",
   "metadata": {},
   "source": [
    "Organize the samples according to the data"
   ]
  },
  {
   "cell_type": "code",
   "execution_count": 6,
   "metadata": {
    "collapsed": true
   },
   "outputs": [],
   "source": [
    "binnedSamples = []\n",
    "for i in range(256):\n",
    "    binnedSamples.append([])\n",
    "\n",
    "for i in range(len(data)):\n",
    "    binnedSamples[sBoxOut[i]].append(traces[i])"
   ]
  },
  {
   "cell_type": "markdown",
   "metadata": {},
   "source": [
    "Save binned samples (only for 2000 traces, needed for incomplete template correction below)"
   ]
  },
  {
   "cell_type": "code",
   "execution_count": 9,
   "metadata": {
    "collapsed": true
   },
   "outputs": [],
   "source": [
    "np.save('results/binnedSamples2000', binnedSamples)"
   ]
  },
  {
   "cell_type": "markdown",
   "metadata": {},
   "source": [
    "Optional: truncate to 2 samples per value. I do not remember why I needed it, just keeping it here, skip this cell."
   ]
  },
  {
   "cell_type": "code",
   "execution_count": null,
   "metadata": {
    "collapsed": true
   },
   "outputs": [],
   "source": [
    "for i in range(256):\n",
    "    binnedSamples[i] = binnedSamples[i][0:2]"
   ]
  },
  {
   "cell_type": "markdown",
   "metadata": {},
   "source": [
    "**Compensating for incomplete template.** For small amount of traces, we will not get traces for every out of 256 input values so some bins will be empty. Here we replenish the missing means from a file with all bins populated by at least one traces. Such a file can be obtained by this script by running it on 2000 traces (see the commented line saving the binned samples above). This is just for simplicity, to avoid dealing with an incomplete template later. Of course it somewhat improves the model, but for our comaprison later it does not matter much."
   ]
  },
  {
   "cell_type": "code",
   "execution_count": 10,
   "metadata": {
    "collapsed": true
   },
   "outputs": [],
   "source": [
    "binnedSamples2000 = np.load('results/binnedSamples2000.npy')\n",
    "for i in range(256):\n",
    "    if not binnedSamples[i]:\n",
    "        binnedSamples[i] = binnedSamples2000[i]"
   ]
  },
  {
   "cell_type": "markdown",
   "metadata": {},
   "source": [
    "Get the means which represent the signal for a given input"
   ]
  },
  {
   "cell_type": "code",
   "execution_count": 11,
   "metadata": {
    "collapsed": true
   },
   "outputs": [],
   "source": [
    "means = map(np.mean, binnedSamples)"
   ]
  },
  {
   "cell_type": "markdown",
   "metadata": {},
   "source": [
    "Save the results. Do not forget to rename the file later, or specify different names here for different numbers of traces."
   ]
  },
  {
   "cell_type": "code",
   "execution_count": 12,
   "metadata": {
    "collapsed": true
   },
   "outputs": [],
   "source": [
    "np.save('results/means', means)"
   ]
  }
 ],
 "metadata": {
  "kernelspec": {
   "display_name": "Python 3",
   "language": "python",
   "name": "python3"
  },
  "language_info": {
   "codemirror_mode": {
    "name": "ipython",
    "version": 3
   },
   "file_extension": ".py",
   "mimetype": "text/x-python",
   "name": "python",
   "nbconvert_exporter": "python",
   "pygments_lexer": "ipython3",
   "version": "3.6.1"
  }
 },
 "nbformat": 4,
 "nbformat_minor": 2
}
